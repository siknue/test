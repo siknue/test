{
 "cells": [
  {
   "cell_type": "code",
   "execution_count": 101,
   "metadata": {},
   "outputs": [],
   "source": [
    "import pandas as pd\n",
    "import numpy as np\n",
    "import matplotlib.pyplot as plt\n",
    "import seaborn as sns\n",
    "from collections import defaultdict\n",
    "from sklearn.feature_extraction.text import TfidfVectorizer\n",
    "\n",
    "from sklearn.preprocessing import PowerTransformer"
   ]
  },
  {
   "cell_type": "code",
   "execution_count": 119,
   "metadata": {},
   "outputs": [],
   "source": [
    "# データ読み込み\n",
    "train = pd.read_csv('./input/train.csv')\n",
    "test = pd.read_csv('./input/test.csv', index_col='id')\n",
    "df = pd.concat([train, test], ignore_index=True)\n",
    "df.reset_index(drop=True, inplace=True)"
   ]
  },
  {
   "cell_type": "code",
   "execution_count": 121,
   "metadata": {},
   "outputs": [],
   "source": [
    "#目的変数を対数変換\n",
    "#予測時に戻すのを忘れないようにする\n",
    "def transferY(df):\n",
    "    p01 = df.y.quantile(0.01)\n",
    "    p99 = df.y.quantile(0.99)\n",
    "    df.y = df.y.clip(p01, p99)\n",
    "\n",
    "    df.y = df.y.map(lambda x: np.log1p(x))\n",
    "transferY(df)"
   ]
  },
  {
   "cell_type": "code",
   "execution_count": 122,
   "metadata": {},
   "outputs": [],
   "source": [
    "#日付データの調整\n",
    "def transferDatetime(df):\n",
    "    def timedelta_hostsince(x):\n",
    "        return (x - df['host_since'].min()).days\n",
    "    def timedelta_lastreview(x):\n",
    "        return (x - df['last_review'].min()).days\n",
    "    def timedelta_firstreview(x):\n",
    "        return (x - df['first_review'].min()).days\n",
    "    df.host_since = pd.to_datetime(df['host_since'])\n",
    "    df.last_review = pd.to_datetime(df['last_review'])\n",
    "    df.first_review = pd.to_datetime(df['first_review'])\n",
    "    \n",
    "    df.host_since = df.host_since.map(lambda x: timedelta_hostsince(x))\n",
    "    df.last_review = df.last_review.map(lambda x: timedelta_lastreview(x))\n",
    "    df.first_review = df.first_review.map(lambda x: timedelta_firstreview(x))\n",
    "transferDatetime(df)"
   ]
  },
  {
   "cell_type": "code",
   "execution_count": 123,
   "metadata": {},
   "outputs": [
    {
     "ename": "MemoryError",
     "evalue": "Unable to allocate 6.56 GiB for an array with shape (74111, 11884) and data type float64",
     "output_type": "error",
     "traceback": [
      "\u001b[1;31m---------------------------------------------------------------------------\u001b[0m",
      "\u001b[1;31mMemoryError\u001b[0m                               Traceback (most recent call last)",
      "\u001b[1;32mセル5 を c:\\Users\\si\\Desktop\\Python_envs\\DeepLearning\\signate_assesment\\xgboost_self.ipynb\u001b[0m in \u001b[0;36m<cell line: 10>\u001b[1;34m()\u001b[0m\n\u001b[0;32m      <a href='vscode-notebook-cell:/c%3A/Users/si/Desktop/Python_envs/DeepLearning/signate_assesment/xgboost_self.ipynb#X11sZmlsZQ%3D%3D?line=6'>7</a>\u001b[0m \u001b[39m# ベクトル化\u001b[39;00m\n\u001b[0;32m      <a href='vscode-notebook-cell:/c%3A/Users/si/Desktop/Python_envs/DeepLearning/signate_assesment/xgboost_self.ipynb#X11sZmlsZQ%3D%3D?line=7'>8</a>\u001b[0m X \u001b[39m=\u001b[39m vec_tfidf\u001b[39m.\u001b[39mfit_transform(name_text)\n\u001b[1;32m---> <a href='vscode-notebook-cell:/c%3A/Users/si/Desktop/Python_envs/DeepLearning/signate_assesment/xgboost_self.ipynb#X11sZmlsZQ%3D%3D?line=9'>10</a>\u001b[0m name_tfidf \u001b[39m=\u001b[39m pd\u001b[39m.\u001b[39mDataFrame(X\u001b[39m.\u001b[39;49mtoarray(), columns\u001b[39m=\u001b[39mvec_tfidf\u001b[39m.\u001b[39mget_feature_names_out())\n",
      "File \u001b[1;32mc:\\Users\\si\\.virtualenvs\\DeepLearning-nGMDXOHI\\lib\\site-packages\\scipy\\sparse\\_compressed.py:1051\u001b[0m, in \u001b[0;36m_cs_matrix.toarray\u001b[1;34m(self, order, out)\u001b[0m\n\u001b[0;32m   1049\u001b[0m \u001b[39mif\u001b[39;00m out \u001b[39mis\u001b[39;00m \u001b[39mNone\u001b[39;00m \u001b[39mand\u001b[39;00m order \u001b[39mis\u001b[39;00m \u001b[39mNone\u001b[39;00m:\n\u001b[0;32m   1050\u001b[0m     order \u001b[39m=\u001b[39m \u001b[39mself\u001b[39m\u001b[39m.\u001b[39m_swap(\u001b[39m'\u001b[39m\u001b[39mcf\u001b[39m\u001b[39m'\u001b[39m)[\u001b[39m0\u001b[39m]\n\u001b[1;32m-> 1051\u001b[0m out \u001b[39m=\u001b[39m \u001b[39mself\u001b[39;49m\u001b[39m.\u001b[39;49m_process_toarray_args(order, out)\n\u001b[0;32m   1052\u001b[0m \u001b[39mif\u001b[39;00m \u001b[39mnot\u001b[39;00m (out\u001b[39m.\u001b[39mflags\u001b[39m.\u001b[39mc_contiguous \u001b[39mor\u001b[39;00m out\u001b[39m.\u001b[39mflags\u001b[39m.\u001b[39mf_contiguous):\n\u001b[0;32m   1053\u001b[0m     \u001b[39mraise\u001b[39;00m \u001b[39mValueError\u001b[39;00m(\u001b[39m'\u001b[39m\u001b[39mOutput array must be C or F contiguous\u001b[39m\u001b[39m'\u001b[39m)\n",
      "File \u001b[1;32mc:\\Users\\si\\.virtualenvs\\DeepLearning-nGMDXOHI\\lib\\site-packages\\scipy\\sparse\\_base.py:1298\u001b[0m, in \u001b[0;36mspmatrix._process_toarray_args\u001b[1;34m(self, order, out)\u001b[0m\n\u001b[0;32m   1296\u001b[0m     \u001b[39mreturn\u001b[39;00m out\n\u001b[0;32m   1297\u001b[0m \u001b[39melse\u001b[39;00m:\n\u001b[1;32m-> 1298\u001b[0m     \u001b[39mreturn\u001b[39;00m np\u001b[39m.\u001b[39;49mzeros(\u001b[39mself\u001b[39;49m\u001b[39m.\u001b[39;49mshape, dtype\u001b[39m=\u001b[39;49m\u001b[39mself\u001b[39;49m\u001b[39m.\u001b[39;49mdtype, order\u001b[39m=\u001b[39;49morder)\n",
      "\u001b[1;31mMemoryError\u001b[0m: Unable to allocate 6.56 GiB for an array with shape (74111, 11884) and data type float64"
     ]
    }
   ],
   "source": [
    "#nameをベクトル化\n",
    "name_text = list(df.name)\n",
    "\n",
    "# TfidfVectorizer\n",
    "vec_tfidf = TfidfVectorizer()\n",
    "\n",
    "# ベクトル化\n",
    "X = vec_tfidf.fit_transform(name_text)\n",
    "\n",
    "name_tfidf = pd.DataFrame(X.toarray(), columns=vec_tfidf.get_feature_names_out())\n",
    "#print('Vocabulary size: {}'.format(len(vec_tfidf.vocabulary_)))\n",
    "#print('Vocabulary content: {}'.format(vec_tfidf.vocabulary_))"
   ]
  },
  {
   "cell_type": "code",
   "execution_count": null,
   "metadata": {},
   "outputs": [
    {
     "ename": "MemoryError",
     "evalue": "Unable to allocate 21.9 GiB for an array with shape (55583, 52797) and data type float64",
     "output_type": "error",
     "traceback": [
      "\u001b[1;31m---------------------------------------------------------------------------\u001b[0m",
      "\u001b[1;31mMemoryError\u001b[0m                               Traceback (most recent call last)",
      "\u001b[1;32mセル6 を c:\\Users\\si\\Desktop\\Python_envs\\DeepLearning\\signate_assesment\\xgboost_self.ipynb\u001b[0m in \u001b[0;36m<cell line: 10>\u001b[1;34m()\u001b[0m\n\u001b[0;32m      <a href='vscode-notebook-cell:/c%3A/Users/si/Desktop/Python_envs/DeepLearning/signate_assesment/xgboost_self.ipynb#X13sZmlsZQ%3D%3D?line=6'>7</a>\u001b[0m \u001b[39m# ベクトル化\u001b[39;00m\n\u001b[0;32m      <a href='vscode-notebook-cell:/c%3A/Users/si/Desktop/Python_envs/DeepLearning/signate_assesment/xgboost_self.ipynb#X13sZmlsZQ%3D%3D?line=7'>8</a>\u001b[0m X \u001b[39m=\u001b[39m vec_tfidf\u001b[39m.\u001b[39mfit_transform(desc_text)\n\u001b[1;32m---> <a href='vscode-notebook-cell:/c%3A/Users/si/Desktop/Python_envs/DeepLearning/signate_assesment/xgboost_self.ipynb#X13sZmlsZQ%3D%3D?line=9'>10</a>\u001b[0m desc_tfidf \u001b[39m=\u001b[39m pd\u001b[39m.\u001b[39mDataFrame(X\u001b[39m.\u001b[39;49mtoarray(), columns\u001b[39m=\u001b[39mvec_tfidf\u001b[39m.\u001b[39mget_feature_names_out())\n",
      "File \u001b[1;32mc:\\Users\\si\\.virtualenvs\\DeepLearning-nGMDXOHI\\lib\\site-packages\\scipy\\sparse\\_compressed.py:1051\u001b[0m, in \u001b[0;36m_cs_matrix.toarray\u001b[1;34m(self, order, out)\u001b[0m\n\u001b[0;32m   1049\u001b[0m \u001b[39mif\u001b[39;00m out \u001b[39mis\u001b[39;00m \u001b[39mNone\u001b[39;00m \u001b[39mand\u001b[39;00m order \u001b[39mis\u001b[39;00m \u001b[39mNone\u001b[39;00m:\n\u001b[0;32m   1050\u001b[0m     order \u001b[39m=\u001b[39m \u001b[39mself\u001b[39m\u001b[39m.\u001b[39m_swap(\u001b[39m'\u001b[39m\u001b[39mcf\u001b[39m\u001b[39m'\u001b[39m)[\u001b[39m0\u001b[39m]\n\u001b[1;32m-> 1051\u001b[0m out \u001b[39m=\u001b[39m \u001b[39mself\u001b[39;49m\u001b[39m.\u001b[39;49m_process_toarray_args(order, out)\n\u001b[0;32m   1052\u001b[0m \u001b[39mif\u001b[39;00m \u001b[39mnot\u001b[39;00m (out\u001b[39m.\u001b[39mflags\u001b[39m.\u001b[39mc_contiguous \u001b[39mor\u001b[39;00m out\u001b[39m.\u001b[39mflags\u001b[39m.\u001b[39mf_contiguous):\n\u001b[0;32m   1053\u001b[0m     \u001b[39mraise\u001b[39;00m \u001b[39mValueError\u001b[39;00m(\u001b[39m'\u001b[39m\u001b[39mOutput array must be C or F contiguous\u001b[39m\u001b[39m'\u001b[39m)\n",
      "File \u001b[1;32mc:\\Users\\si\\.virtualenvs\\DeepLearning-nGMDXOHI\\lib\\site-packages\\scipy\\sparse\\_base.py:1298\u001b[0m, in \u001b[0;36mspmatrix._process_toarray_args\u001b[1;34m(self, order, out)\u001b[0m\n\u001b[0;32m   1296\u001b[0m     \u001b[39mreturn\u001b[39;00m out\n\u001b[0;32m   1297\u001b[0m \u001b[39melse\u001b[39;00m:\n\u001b[1;32m-> 1298\u001b[0m     \u001b[39mreturn\u001b[39;00m np\u001b[39m.\u001b[39;49mzeros(\u001b[39mself\u001b[39;49m\u001b[39m.\u001b[39;49mshape, dtype\u001b[39m=\u001b[39;49m\u001b[39mself\u001b[39;49m\u001b[39m.\u001b[39;49mdtype, order\u001b[39m=\u001b[39;49morder)\n",
      "\u001b[1;31mMemoryError\u001b[0m: Unable to allocate 21.9 GiB for an array with shape (55583, 52797) and data type float64"
     ]
    }
   ],
   "source": [
    "#descriptionをベクトル化\n",
    "desc_text = list(df.description)\n",
    "\n",
    "# TfidfVectorizer\n",
    "vec_tfidf = TfidfVectorizer()\n",
    "\n",
    "# ベクトル化\n",
    "X = vec_tfidf.fit_transform(desc_text)\n",
    "\n",
    "desc_tfidf = pd.DataFrame(X.toarray(), columns=vec_tfidf.get_feature_names_out())\n",
    "#print('Vocabulary size: {}'.format(len(vec_tfidf.vocabulary_)))\n",
    "#print('Vocabulary content: {}'.format(vec_tfidf.vocabulary_))"
   ]
  },
  {
   "cell_type": "code",
   "execution_count": null,
   "metadata": {},
   "outputs": [],
   "source": [
    "def amenities2onehot(df):\n",
    "    def shapeAmenity(x):\n",
    "        '''\n",
    "        shape amenities as a list of amenities for each record\n",
    "        '''\n",
    "        tmp_str = x[1:-2]\n",
    "        tmp_str = tmp_str.replace('\"', '')\n",
    "        tmp_str = tmp_str.replace(\"'\", \"\")\n",
    "        tmp_str = tmp_str.split(',')\n",
    "        return tmp_str\n",
    "\n",
    "    def makeAmenityOnehot(x:list,amenity_category:list) -> list:\n",
    "        '''\n",
    "        x: record of amenities formated as a list\n",
    "        amenity_category: a list of amenities entire the table\n",
    "\n",
    "        description:\n",
    "            execute onehot encoding\n",
    "            tmp order [dryer,free parking on premises, kitchen, smoke detector, TV, Washer, Wireless Internet....]\n",
    "        '''\n",
    "        category = [0 for i in range(len(amenity_category))]\n",
    "\n",
    "        for i in x:\n",
    "            for j in range(len(amenity_category)):\n",
    "                if i == amenity_category[j]:\n",
    "                    category[j] = 1\n",
    "\n",
    "        return category\n",
    "\n",
    "    #format amenities column\n",
    "    df.amenities = df.amenities.map(shapeAmenity)\n",
    "\n",
    "    #generate list of amenities\n",
    "    amenity_dict = defaultdict(int)\n",
    "    for i in list(df.amenities):\n",
    "        for j in i:\n",
    "            amenity_dict[j] += 1\n",
    "    amenity_category = list(amenity_dict.keys())\n",
    "\n",
    "    #make onehot-encoded list\n",
    "    tmp_onehot = list()\n",
    "    for k in df.amenities:\n",
    "        tmp_onehot.append(makeAmenityOnehot(k,amenity_category))\n",
    "\n",
    "    amenity_category_df = pd.DataFrame(tmp_onehot)\n",
    "    #amenity_category_df = amenity_category_df.set_axis(amenity_category, axis = 1)\n",
    "\n",
    "    return amenity_category_df\n",
    "\n",
    "out_df = amenities2onehot()"
   ]
  },
  {
   "cell_type": "code",
   "execution_count": 107,
   "metadata": {},
   "outputs": [
    {
     "data": {
      "text/plain": [
       "<AxesSubplot:>"
      ]
     },
     "execution_count": 107,
     "metadata": {},
     "output_type": "execute_result"
    },
    {
     "data": {
      "image/png": "[encoded data removed]",
      "text/plain": [
       "<Figure size 432x288 with 1 Axes>"
      ]
     },
     "metadata": {
      "needs_background": "light"
     },
     "output_type": "display_data"
    }
   ],
   "source": [
    "# review_scores_ratingを非線形処理\n",
    "def review_scores_rating(df):\n",
    "    padded = df.review_scores_rating.fillna(train.review_scores_rating.mean())\n",
    "    pt = PowerTransformer(method = 'box-cox')\n",
    "    pt.fit(np.array(padded).reshape(-1, 1) )\n",
    "    df['review_scores_rating'] = pt.transform(np.array(padded).reshape(-1, 1))\n",
    "review_scores_rating(train)\n",
    "train.review_scores_rating.hist(bins = 1000)"
   ]
  },
  {
   "cell_type": "code",
   "execution_count": 118,
   "metadata": {},
   "outputs": [
    {
     "data": {
      "text/plain": [
       "0         True\n",
       "1        False\n",
       "2         True\n",
       "3         True\n",
       "4         True\n",
       "         ...  \n",
       "55578     True\n",
       "55579     True\n",
       "55580     True\n",
       "55581    False\n",
       "55582     True\n",
       "Name: property_type, Length: 55583, dtype: bool"
      ]
     },
     "execution_count": 118,
     "metadata": {},
     "output_type": "execute_result"
    }
   ],
   "source": [
    "train.property_type == 'Apartment'"
   ]
  }
 ],
 "metadata": {
  "kernelspec": {
   "display_name": "Python 3.9.2 ('DeepLearning-nGMDXOHI')",
   "language": "python",
   "name": "python3"
  },
  "language_info": {
   "codemirror_mode": {
    "name": "ipython",
    "version": 3
   },
   "file_extension": ".py",
   "mimetype": "text/x-python",
   "name": "python",
   "nbconvert_exporter": "python",
   "pygments_lexer": "ipython3",
   "version": "3.9.2"
  },
  "orig_nbformat": 4,
  "vscode": {
   "interpreter": {
    "hash": "41e10d4ad46c6127c58393c0ad1a134be3fea9f2eb47a70965519731078500fe"
   }
  }
 },
 "nbformat": 4,
 "nbformat_minor": 2
}
