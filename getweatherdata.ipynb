{
 "cells": [
  {
   "cell_type": "code",
   "execution_count": 15,
   "metadata": {},
   "outputs": [],
   "source": [
    "import requests\n",
    "import json\n",
    "import pprint\n",
    "\n",
    "API_TOKEN = \"ba6b7046b1775857684126979e916750\"\n",
    "\n",
    "def returnWeatherProperty(lat,lon):\n",
    "    response = requests.get(\"https://api.openweathermap.org/data/2.5/weather\",\n",
    "                            params={\n",
    "                                    ## 緯度・軽度を指定する場合\n",
    "                                    \"lat\": lat,\n",
    "                                    \"lon\": lon,\n",
    "\n",
    "                                    ## 都市名で取得する場合\n",
    "                                    #\"q\": \"tokyo\",\n",
    "\n",
    "                                    \"appid\": API_TOKEN,\n",
    "                                    \"units\": \"metric\",\n",
    "                                    \"lang\": \"ja\",\n",
    "                                    },\n",
    "                            )\n",
    "    ret = json.loads(response.text)\n",
    "    #pprint.pprint(ret)\n",
    "    return ret\n",
    "ret = returnWeatherProperty(33.7889306443833,-118.154761260801)"
   ]
  },
  {
   "cell_type": "code",
   "execution_count": 16,
   "metadata": {},
   "outputs": [
    {
     "data": {
      "text/plain": [
       "'Clear'"
      ]
     },
     "execution_count": 16,
     "metadata": {},
     "output_type": "execute_result"
    }
   ],
   "source": [
    "ret['weather'][0]['main']"
   ]
  },
  {
   "cell_type": "code",
   "execution_count": 17,
   "metadata": {},
   "outputs": [
    {
     "data": {
      "text/plain": [
       "{'coord': {'lon': -118.1548, 'lat': 33.7889},\n",
       " 'weather': [{'id': 800, 'main': 'Clear', 'description': '晴天', 'icon': '01d'}],\n",
       " 'base': 'stations',\n",
       " 'main': {'temp': 20.66,\n",
       "  'feels_like': 20.97,\n",
       "  'temp_min': 17.9,\n",
       "  'temp_max': 24.5,\n",
       "  'pressure': 1009,\n",
       "  'humidity': 84},\n",
       " 'visibility': 10000,\n",
       " 'wind': {'speed': 0.45, 'deg': 237, 'gust': 1.34},\n",
       " 'clouds': {'all': 0},\n",
       " 'dt': 1660661485,\n",
       " 'sys': {'type': 1,\n",
       "  'id': 4699,\n",
       "  'country': 'US',\n",
       "  'sunrise': 1660655725,\n",
       "  'sunset': 1660703915},\n",
       " 'timezone': -25200,\n",
       " 'id': 5395754,\n",
       " 'name': 'Signal Hill',\n",
       " 'cod': 200}"
      ]
     },
     "execution_count": 17,
     "metadata": {},
     "output_type": "execute_result"
    }
   ],
   "source": [
    "ret"
   ]
  }
 ],
 "metadata": {
  "kernelspec": {
   "display_name": "Python 3.9.2 ('DeepLearning-nGMDXOHI')",
   "language": "python",
   "name": "python3"
  },
  "language_info": {
   "codemirror_mode": {
    "name": "ipython",
    "version": 3
   },
   "file_extension": ".py",
   "mimetype": "text/x-python",
   "name": "python",
   "nbconvert_exporter": "python",
   "pygments_lexer": "ipython3",
   "version": "3.9.2"
  },
  "orig_nbformat": 4,
  "vscode": {
   "interpreter": {
    "hash": "41e10d4ad46c6127c58393c0ad1a134be3fea9f2eb47a70965519731078500fe"
   }
  }
 },
 "nbformat": 4,
 "nbformat_minor": 2
}
